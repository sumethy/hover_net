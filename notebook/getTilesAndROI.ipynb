{
 "cells": [
  {
   "cell_type": "code",
   "execution_count": null,
   "metadata": {},
   "outputs": [],
   "source": [
    "import numpy as np\n",
    "import cv2\n",
    "import matplotlib.pyplot as plt\n",
    "import os\n",
    "from PIL import Image\n",
    "from time import time\n",
    "\n",
    "import openslide\n",
    "from PIL import ImageChops\n",
    "from tqdm import tqdm\n",
    "from joblib import Parallel, delayed\n",
    "import time\n",
    "from IPython.display import display\n",
    "from matplotlib.pyplot import imshow\n",
    "\n",
    "import scipy.io as sio\n",
    "\n",
    "resnet101_input_size = 256"
   ]
  },
  {
   "cell_type": "markdown",
   "metadata": {},
   "source": [
    "# Get the tiles of the search areas on WSI that Dr. marked."
   ]
  },
  {
   "cell_type": "code",
   "execution_count": null,
   "metadata": {},
   "outputs": [],
   "source": [
    "# bound_x = int(img.properties[\"openslide.bounds-x\"])\n",
    "# bound_y = int(img.properties[\"openslide.bounds-y\"])\n",
    "# bound_w = int(img.properties[\"openslide.bounds-width\"])\n",
    "# bound_h = int(img.properties[\"openslide.bounds-height\"])\n",
    "\n",
    "# tiles -> hovernet inference -> find potential CB cell(s) -> save each one as ROI (save the image of the tile also)\n",
    "\n",
    "searchAreas = dict() # dict of list of bbox of search area\n",
    "\n",
    "# CB-001-1\n",
    "tmp = []\n",
    "tmp.append((227594,79236,228447,79868)) # (xmin,ymin,xmax,ymax)\n",
    "tmp.append((224456,81643,224803,81924))\n",
    "tmp.append((222253,88223,222669,88574))\n",
    "tmp.append((223866,90258,224916,91558))\n",
    "tmp.append((245297,87580,246037,88043))\n",
    "tmp.append((241622,88999,245862,90670))\n",
    "tmp.append((246425,91618,246741,91900))\n",
    "searchAreas[\"CB-001-1\"] = tmp\n",
    "\n",
    "# CB-001-2\n",
    "tmp = []\n",
    "tmp.append((25086,95182,25324,95409))\n",
    "tmp.append((24328,105451,25434,106222))\n",
    "tmp.append((22093,109242,22982,110040))\n",
    "tmp.append((22911,113051,23591,113592))\n",
    "tmp.append((26524,110554,27575,111374))\n",
    "tmp.append((23418,114431,24257,115037))\n",
    "tmp.append((24011,116295,24300,116571))\n",
    "searchAreas[\"CB-001-2\"] = tmp\n",
    "\n",
    "# CB-001-3\n",
    "tmp = []\n",
    "tmp.append((181985,141258,184498,141873)) # 184498-181985 = 2513    141973-141258 = 715\n",
    "tmp.append((178292,146264,179109,146865))\n",
    "tmp.append((185366,147100,185592,147301))\n",
    "tmp.append((196716,134240,197734,134986))\n",
    "tmp.append((197639,135809,198310,136307))\n",
    "tmp.append((200051,137044,200579,137408))\n",
    "tmp.append((199197,138915,201446,139920))\n",
    "tmp.append((200328,141060,201030,141631))\n",
    "tmp.append((200192,146371,200910,146831))\n",
    "searchAreas[\"CB-001-3\"] = tmp\n",
    "\n",
    "# CB=002-1\n",
    "tmp = []\n",
    "tmp.append((61095,122140,61538,122561))\n",
    "tmp.append((59733,123694,60672,123978))\n",
    "tmp.append((85675,101608,86121,101901))\n",
    "tmp.append((83754,106213,84264,106548))\n",
    "tmp.append((85443,133843,87912,135462))\n",
    "searchAreas[\"CB-002-1\"] = tmp\n",
    "\n",
    "num_img = 1\n",
    "\n",
    "for filename in searchAreas.keys():\n",
    "    img = openslide.OpenSlide('../data/' + filename + '.mrxs')\n",
    "    for bbox in searchAreas[filename]:\n",
    "        xmin,ymin,xmax,ymax= bbox\n",
    "        num_tiles_row = (ymax-ymin) // resnet101_input_size\n",
    "        num_tiles_col = (xmax-xmin) // resnet101_input_size\n",
    "        for row in range(0, num_tiles_row): \n",
    "            for col in range(0, num_tiles_col):\n",
    "                coord = (col*resnet101_input_size + xmin, row*resnet101_input_size + ymin)\n",
    "                tile = img.read_region((coord[0],coord[1]), 0, (resnet101_input_size,resnet101_input_size)) # PIL image\n",
    "                tile.save('/centroblast/tmp/image/' + str(num_img).zfill(4) + '.png')\n",
    "                num_img += 1\n",
    "        "
   ]
  },
  {
   "cell_type": "code",
   "execution_count": 7,
   "metadata": {},
   "outputs": [],
   "source": [
    "def getROIfromMat(path):\n",
    "    filename = path[-13:] # path ends with imagexxxx.mat\n",
    "    filename = filename[:-4]\n",
    "    img = Image.open('/centroblast/tmp/image/' + filename + \".png\")\n",
    "\n",
    "    um_per_px = 0.1538\n",
    "    size_threshold = 5.13\n",
    "    mat = sio.loadmat(path)\n",
    "    # print(mat)\n",
    "    mask = mat[\"inst_map\"]\n",
    "    # mask = cv2.resize(mask,(160,160))\n",
    "    # mask = cv2.resize(mask,(256,256))\n",
    "    num_components = np.max(mask) # number of cells detected for this image\n",
    "\n",
    "    mask4eachComponent = np.zeros([resnet101_input_size,resnet101_input_size,num_components+1],dtype=np.uint8) # channel 1 for object 1, channel 2 for object 2, etc. channel 0 unused\n",
    "    for obj in range(1,num_components+1):\n",
    "        mask4eachComponent[:,:,obj] = (mask == obj)*255\n",
    "\n",
    "    cb_detected = []\n",
    "    \n",
    "    def isCellCB(contours):\n",
    "        if len(contours) == 0:\n",
    "            return False\n",
    "        area = cv2.contourArea(contours[0])\n",
    "        equi_diameter = np.sqrt(4*area/np.pi)*um_per_px\n",
    "        # check ratio of major/miner axis (how round it is)\n",
    "        rect = cv2.boundingRect(contours[0])\n",
    "        aspectRatio = rect[2] / rect[3]\n",
    "\n",
    "        if equi_diameter > size_threshold and (0.7 <= aspectRatio and aspectRatio <= 1.3):\n",
    "            return True\n",
    "        else:\n",
    "            return False\n",
    "\n",
    "    counter = 1\n",
    "    for obj in range(1,num_components+1):\n",
    "        ret,thresh = cv2.threshold(mask4eachComponent[:,:,obj],127,255,0)\n",
    "        contours, hierarchy = cv2.findContours(thresh,cv2.RETR_TREE,cv2.CHAIN_APPROX_SIMPLE)\n",
    "        if isCellCB(contours):\n",
    "            # find the centroid \n",
    "            M = cv2.moments(contours[0])\n",
    "            cX = int(M[\"m10\"] / M[\"m00\"])\n",
    "            cY = int(M[\"m01\"] / M[\"m00\"])\n",
    "            cb_detected.append((obj,cX,cY,mask4eachComponent[:,:,obj]))\n",
    "            bbox = (cX-45,cY-45,cX+45,cY+45)\n",
    "            roi = img.crop(bbox)\n",
    "            roi.save('/centroblast/tmp/roi_extracted/'+filename+'_ROI'+str(counter).zfill(4)+'_'+str(bbox[0]).zfill(3)+'_'+str(bbox[1]).zfill(3)+'_'+str(bbox[2]).zfill(3)+'_'+str(bbox[3]).zfill(3)+'.png')\n",
    "            counter += 1\n",
    "\n",
    "\n",
    "    return cb_detected, mask\n"
   ]
  },
  {
   "cell_type": "code",
   "execution_count": 8,
   "metadata": {},
   "outputs": [],
   "source": [
    "file_lst = os.listdir(\"/centroblast/tmp/output/mat\")\n",
    "for f in file_lst:\n",
    "    f = \"/centroblast/tmp/output/mat/\" + f\n",
    "    getROIfromMat(f)"
   ]
  },
  {
   "cell_type": "markdown",
   "metadata": {},
   "source": [
    "# Play Area"
   ]
  },
  {
   "cell_type": "code",
   "execution_count": null,
   "metadata": {},
   "outputs": [],
   "source": [
    "cbs, mask = getROIfromMat(\"../tmp/mat/image0103.mat\")"
   ]
  },
  {
   "cell_type": "code",
   "execution_count": null,
   "metadata": {},
   "outputs": [],
   "source": [
    "plt.imshow(cbs[0][3], cmap='gray')\n",
    "plt.savefig(\"tmp.png\")"
   ]
  },
  {
   "cell_type": "code",
   "execution_count": null,
   "metadata": {},
   "outputs": [],
   "source": [
    "print(np.unique(mask))"
   ]
  },
  {
   "cell_type": "code",
   "execution_count": null,
   "metadata": {},
   "outputs": [],
   "source": [
    "tiles[1]"
   ]
  },
  {
   "cell_type": "code",
   "execution_count": null,
   "metadata": {},
   "outputs": [],
   "source": [
    "# find all-white tile"
   ]
  },
  {
   "cell_type": "code",
   "execution_count": null,
   "metadata": {},
   "outputs": [],
   "source": [
    "tile1 = img.read_region(tiles[20000], 0, (224,224))\n",
    "tile2 = img.read_region((0,0), 0, (224,224))\n",
    "tile3 = img.read_region((175413,101819), 0, (224,224))"
   ]
  },
  {
   "cell_type": "code",
   "execution_count": null,
   "metadata": {},
   "outputs": [],
   "source": [
    "imshow(np.array(tile1))"
   ]
  },
  {
   "cell_type": "code",
   "execution_count": null,
   "metadata": {},
   "outputs": [],
   "source": [
    "np.mean(np.array(tile1)[:,:,2])"
   ]
  },
  {
   "cell_type": "code",
   "execution_count": null,
   "metadata": {},
   "outputs": [],
   "source": [
    "imshow(np.array(tile2))"
   ]
  },
  {
   "cell_type": "code",
   "execution_count": null,
   "metadata": {},
   "outputs": [],
   "source": [
    "np.mean(np.array(tile2)[:,:,2])"
   ]
  },
  {
   "cell_type": "code",
   "execution_count": null,
   "metadata": {},
   "outputs": [],
   "source": [
    "imshow(np.array(tile3))"
   ]
  },
  {
   "cell_type": "code",
   "execution_count": null,
   "metadata": {},
   "outputs": [],
   "source": [
    "np.mean(np.array(tile3)[:,:,2])"
   ]
  },
  {
   "cell_type": "code",
   "execution_count": null,
   "metadata": {},
   "outputs": [],
   "source": [
    "np.array(tile2)[1,1,1]"
   ]
  },
  {
   "cell_type": "code",
   "execution_count": null,
   "metadata": {},
   "outputs": [],
   "source": [
    "img.properties[\"openslide.bounds-x\"]\n",
    "img.properties[\"openslide.bounds-y\"]\n",
    "img.properties[\"openslide.bounds-width\"]\n",
    "img.properties[\"openslide.bounds-height\"]"
   ]
  },
  {
   "cell_type": "code",
   "execution_count": null,
   "metadata": {},
   "outputs": [],
   "source": [
    "\n",
    "searchAreas = dict() # dict of list of bbox of search area\n",
    "\n",
    "# CB-001-1\n",
    "tmp = []\n",
    "tmp.append((227594,79236,228447,79868)) # (xmin,ymin,xmax,ymax)\n",
    "tmp.append((224456,81643,224803,81924))\n",
    "tmp.append((222253,88223,222669,88574))\n",
    "tmp.append((223866,90258,224916,91558))\n",
    "tmp.append((245297,87580,246037,88043))\n",
    "tmp.append((241622,88999,245862,90670))\n",
    "tmp.append((246425,91618,246741,91900))\n",
    "searchAreas[\"CB-001-1\"] = tmp\n",
    "\n",
    "# CB-001-2\n",
    "tmp = []\n",
    "tmp.append((25086,95182,25324,95409))\n",
    "tmp.append((24328,105451,25434,106222))\n",
    "tmp.append((22093,109242,22982,110040))\n",
    "tmp.append((22911,113051,23591,113592))\n",
    "tmp.append((26524,110554,27575,111374))\n",
    "tmp.append((23418,114431,24257,115037))\n",
    "tmp.append((24011,116295,24300,116571))\n",
    "searchAreas[\"CB-001-2\"] = tmp\n",
    "\n",
    "# CB-001-3\n",
    "tmp = []\n",
    "tmp.append((181985,141258,184498,141873))\n",
    "tmp.append((178292,146264,179109,146865))\n",
    "tmp.append((185366,147100,185592,147301))\n",
    "tmp.append((196716,134240,197734,134986))\n",
    "tmp.append((197639,135809,198310,136307))\n",
    "tmp.append((200051,137044,200579,137408))\n",
    "tmp.append((199197,138915,201446,139920))\n",
    "tmp.append((200328,141060,201030,141631))\n",
    "tmp.append((200192,146371,200910,146831))\n",
    "searchAreas[\"CB-001-3\"] = tmp\n",
    "\n",
    "# CB=002-1\n",
    "tmp = []\n",
    "tmp.append((61095,122140,61538,122561))\n",
    "tmp.append((59733,123694,60672,123978))\n",
    "tmp.append((85675,101608,86121,101901))\n",
    "tmp.append((83754,106213,84264,106548))\n",
    "tmp.append((85443,133843,87912,135462))\n",
    "searchAreas[\"CB-002-1\"] = tmp"
   ]
  },
  {
   "cell_type": "code",
   "execution_count": null,
   "metadata": {},
   "outputs": [],
   "source": [
    "print(searchAreas)"
   ]
  },
  {
   "cell_type": "code",
   "execution_count": null,
   "metadata": {},
   "outputs": [],
   "source": [
    "for filename in searchAreas.keys():\n",
    "    print(filename)"
   ]
  },
  {
   "cell_type": "code",
   "execution_count": null,
   "metadata": {},
   "outputs": [],
   "source": [
    "searchAreas[\"CB-001-1\"]"
   ]
  },
  {
   "cell_type": "code",
   "execution_count": null,
   "metadata": {},
   "outputs": [],
   "source": [
    "s = \"../tmp/mat/image0103.mat\"\n",
    "s[-13:]"
   ]
  },
  {
   "cell_type": "code",
   "execution_count": null,
   "metadata": {},
   "outputs": [],
   "source": [
    "img = Image.open(\"/home/users/v-sumeth/cell_segment/hover_net/roi_extracted/image0103_ROI0001_048_-24_138_066.png\")\n",
    "img_arr = np.array(img)\n",
    "print(img_arr.shape)\n",
    "plt.imshow(img_arr[...,:3])"
   ]
  },
  {
   "cell_type": "code",
   "execution_count": null,
   "metadata": {},
   "outputs": [],
   "source": [
    "arr = np.load(\"../tmp/test.npy\")"
   ]
  },
  {
   "cell_type": "code",
   "execution_count": null,
   "metadata": {},
   "outputs": [],
   "source": [
    "plt.imshow(arr[0,:,:,3])"
   ]
  },
  {
   "cell_type": "code",
   "execution_count": null,
   "metadata": {},
   "outputs": [],
   "source": [
    "X = arr[0,:,:,3]"
   ]
  },
  {
   "cell_type": "code",
   "execution_count": null,
   "metadata": {},
   "outputs": [],
   "source": [
    "from skimage import measure\n",
    "from skimage import filters\n",
    "import matplotlib.pyplot as plt\n",
    "import numpy as np\n",
    "\n",
    "n = 12\n",
    "l = 256\n",
    "np.random.seed(1)\n",
    "im = np.zeros((l, l))\n",
    "points = l * np.random.random((2, n ** 2))\n",
    "im[(points[0]).astype(np.int), (points[1]).astype(np.int)] = 1\n",
    "im = filters.gaussian(im, sigma= l / (4. * n))\n",
    "blobs = im > 0.7 * im.mean()\n",
    "\n",
    "all_labels = measure.label(blobs)\n",
    "blobs_labels = measure.label(blobs, background=0)\n",
    "\n",
    "plt.figure(figsize=(9, 3.5))\n",
    "plt.subplot(131)\n",
    "plt.imshow(blobs, cmap='gray')\n",
    "plt.axis('off')\n",
    "plt.subplot(132)\n",
    "plt.imshow(all_labels, cmap='nipy_spectral')\n",
    "plt.axis('off')\n",
    "plt.subplot(133)\n",
    "plt.imshow(blobs_labels, cmap='nipy_spectral')\n",
    "plt.axis('off')\n",
    "\n",
    "plt.tight_layout()\n",
    "plt.show()"
   ]
  },
  {
   "cell_type": "code",
   "execution_count": null,
   "metadata": {},
   "outputs": [],
   "source": [
    "whos"
   ]
  },
  {
   "cell_type": "code",
   "execution_count": null,
   "metadata": {},
   "outputs": [],
   "source": [
    "def test_func(path):\n",
    "    filename = path[-13:] # path ends with imagexxxx.mat\n",
    "    filename = filename[:-4]\n",
    "    img = Image.open('/home/users/v-sumeth/cell_segment/hover_net/tiles_extracted/' + filename + \".png\")\n",
    "\n",
    "    mat = sio.loadmat(path)\n",
    "    mask = mat[\"inst_map\"]\n",
    "    plt.imshow(mask)\n",
    "    mask2 = cv2.resize(mask/255.0, (160,160), interpolation = cv2.INTER_AREA)\n",
    "    mask2 = cv2.resize(mask2,(256,256))\n",
    "    mask2 = (mask2*255).astype(np.uint8)\n",
    "    plt.imshow(mask2)"
   ]
  },
  {
   "cell_type": "code",
   "execution_count": null,
   "metadata": {},
   "outputs": [],
   "source": [
    "test_func(\"../tmp/mat/image0103.mat\")"
   ]
  },
  {
   "cell_type": "code",
   "execution_count": null,
   "metadata": {},
   "outputs": [],
   "source": [
    "whos"
   ]
  },
  {
   "cell_type": "code",
   "execution_count": null,
   "metadata": {},
   "outputs": [],
   "source": []
  }
 ],
 "metadata": {
  "interpreter": {
   "hash": "98b0a9b7b4eaaa670588a142fd0a9b87eaafe866f1db4228be72b4211d12040f"
  },
  "kernelspec": {
   "display_name": "Python 3.6.10 64-bit ('base': conda)",
   "name": "python3"
  },
  "language_info": {
   "codemirror_mode": {
    "name": "ipython",
    "version": 3
   },
   "file_extension": ".py",
   "mimetype": "text/x-python",
   "name": "python",
   "nbconvert_exporter": "python",
   "pygments_lexer": "ipython3",
   "version": "3.6.10"
  },
  "orig_nbformat": 2
 },
 "nbformat": 4,
 "nbformat_minor": 2
}